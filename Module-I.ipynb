{
 "cells": [
  {
   "cell_type": "markdown",
   "id": "1bb30a7a-3644-47a3-a4eb-97cddbd95743",
   "metadata": {},
   "source": [
    "# Preparing Influenza Data from the Repseq Algorithm"
   ]
  },
  {
   "cell_type": "markdown",
   "id": "43f4d0db-aca7-4b4e-86cf-e68d00e6c4c2",
   "metadata": {},
   "source": [
    "This notebook conducts 'Module 1' of the Representative Sequences project lead by Zach Wallace, Boqi Wang, and Raimon Padros I Valls.  It will load in aligned Influenza sequences stored in a FASTA file and downloaded from the BV-BRC (www.bv-brc.org) and convert the FASTA to a lis of sequences"
   ]
  },
  {
   "cell_type": "code",
   "execution_count": 9,
   "id": "e8a8616a-2938-4b39-9293-b34670be7c71",
   "metadata": {},
   "outputs": [],
   "source": [
    "from Bio import SeqIO"
   ]
  },
  {
   "cell_type": "markdown",
   "id": "e9cf764f-6a65-43bb-9796-d7577d6645e1",
   "metadata": {},
   "source": [
    "### Function for Parsing FASTA"
   ]
  },
  {
   "cell_type": "code",
   "execution_count": 3,
   "id": "36311517-bbcc-43a2-a734-83461bb4f31e",
   "metadata": {},
   "outputs": [],
   "source": [
    "def parse_fasta(fasta_file):\n",
    "    \n",
    "    seq_list = []\n",
    "    for seq_record in SeqIO.parse(fasta_file, 'fasta'):\n",
    "        seq = str(seq_record.seq)\n",
    "        seq_list.append(seq)\n",
    "        \n",
    "    return(seq_list)"
   ]
  },
  {
   "cell_type": "markdown",
   "id": "05832beb-885a-4da0-b981-d748049c1d51",
   "metadata": {},
   "source": [
    "### Process the Influenza Sequences"
   ]
  },
  {
   "cell_type": "code",
   "execution_count": 4,
   "id": "f276def0-5e20-4ca6-a927-dbbcd482d6e2",
   "metadata": {},
   "outputs": [],
   "source": [
    "H1N1_fasta = 'data/H1N1_aligned.fasta'\n",
    "H3N2_fasta = 'data/H3N2_aligned.fasta'\n",
    "H5N1_fasta = 'data/H5N1_aligned.fasta'\n",
    "H9N2_fasta = 'data/H9N2_aligned.fasta'\n",
    "\n",
    "H1N1_seqs = parse_fasta(H1N1_fasta)\n",
    "H3N2_seqs = parse_fasta(H3N2_fasta)\n",
    "H5N1_seqs = parse_fasta(H5N1_fasta)\n",
    "H9N2_seqs = parse_fasta(H1N1_fasta)"
   ]
  },
  {
   "cell_type": "code",
   "execution_count": 5,
   "id": "ec5d43f8-f3d5-4b33-8717-ad2c489a700e",
   "metadata": {},
   "outputs": [
    {
     "data": {
      "text/plain": [
       "3060"
      ]
     },
     "execution_count": 5,
     "metadata": {},
     "output_type": "execute_result"
    }
   ],
   "source": [
    "len(H1N1_seqs)"
   ]
  },
  {
   "cell_type": "code",
   "execution_count": 6,
   "id": "eeec4aaa-eed6-412e-b5de-7a8c41d3ebab",
   "metadata": {},
   "outputs": [
    {
     "data": {
      "text/plain": [
       "3943"
      ]
     },
     "execution_count": 6,
     "metadata": {},
     "output_type": "execute_result"
    }
   ],
   "source": [
    "len(H3N2_seqs)"
   ]
  },
  {
   "cell_type": "code",
   "execution_count": 7,
   "id": "91ac9dce-1cdc-4a09-9c42-7552d3179ddd",
   "metadata": {},
   "outputs": [
    {
     "data": {
      "text/plain": [
       "2625"
      ]
     },
     "execution_count": 7,
     "metadata": {},
     "output_type": "execute_result"
    }
   ],
   "source": [
    "len(H5N1_seqs)"
   ]
  },
  {
   "cell_type": "code",
   "execution_count": 8,
   "id": "d791b618-d7a7-4efd-8fff-08b5084a93a5",
   "metadata": {},
   "outputs": [
    {
     "data": {
      "text/plain": [
       "3060"
      ]
     },
     "execution_count": 8,
     "metadata": {},
     "output_type": "execute_result"
    }
   ],
   "source": [
    "len(H9N2_seqs)"
   ]
  },
  {
   "cell_type": "code",
   "execution_count": null,
   "id": "d3cac4a3-25d1-4ffd-8660-e707a7fe45a4",
   "metadata": {},
   "outputs": [],
   "source": []
  }
 ],
 "metadata": {
  "kernelspec": {
   "display_name": "Python 3 (ipykernel)",
   "language": "python",
   "name": "python3"
  },
  "language_info": {
   "codemirror_mode": {
    "name": "ipython",
    "version": 3
   },
   "file_extension": ".py",
   "mimetype": "text/x-python",
   "name": "python",
   "nbconvert_exporter": "python",
   "pygments_lexer": "ipython3",
   "version": "3.8.2"
  }
 },
 "nbformat": 4,
 "nbformat_minor": 5
}
