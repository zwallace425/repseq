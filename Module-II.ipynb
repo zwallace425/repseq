{
 "cells": [
  {
   "cell_type": "code",
   "execution_count": 5,
   "id": "e2d7b2f4-4005-4fcc-940f-ad7b62688581",
   "metadata": {},
   "outputs": [],
   "source": [
    "def score(sequence1: str, sequence2: str, mr: int, mp: int, ip: int) -> int:\n",
    "    \"\"\"\n",
    "    Given two sequences, a match reward mr, a mismatch penalty mp, and an \n",
    "    indel penalty ip, compute the alignment score between the two sequences.\n",
    "    The alignment score between two sequences is computed as (\n",
    "         number of matches × match reward \n",
    "         - number of mismatches × mismatch penalty \n",
    "         - number of indels × indel penalty\n",
    "    )\n",
    "\n",
    "    :param sequence1: <str> First sequence.\n",
    "    :param sequence2: <str> Second sequence.\n",
    "    :param mr: <int> Match reward.\n",
    "    :param mp: <int> Mismatch penalty.\n",
    "    :param ip: <int> Indel penalty.\n",
    "\n",
    "    :return: <int> Score between the two sequences.\n",
    "    \"\"\"\n",
    "    score = 0\n",
    "    for a, b in zip(sequence1, sequence2):\n",
    "        if a == b:\n",
    "            score += mr\n",
    "        elif a == \"-\" or b == \"-\":\n",
    "            score -= mp\n",
    "        else:\n",
    "            score -= ip\n",
    "    return score"
   ]
  }
 ],
 "metadata": {
  "kernelspec": {
   "display_name": "Python 3 (ipykernel)",
   "language": "python",
   "name": "python3"
  },
  "language_info": {
   "codemirror_mode": {
    "name": "ipython",
    "version": 3
   },
   "file_extension": ".py",
   "mimetype": "text/x-python",
   "name": "python",
   "nbconvert_exporter": "python",
   "pygments_lexer": "ipython3",
   "version": "3.9.13"
  }
 },
 "nbformat": 4,
 "nbformat_minor": 5
}
