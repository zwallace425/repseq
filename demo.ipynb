{
 "cells": [
  {
   "cell_type": "markdown",
   "id": "cf210b39-3850-4076-a04b-8bc0c076b2ee",
   "metadata": {},
   "source": [
    "#### **Imports and variables**"
   ]
  },
  {
   "cell_type": "code",
   "execution_count": 57,
   "id": "e8a8616a-2938-4b39-9293-b34670be7c71",
   "metadata": {},
   "outputs": [],
   "source": [
    "import os\n",
    "import time\n",
    "from representative_subset import greedy_representative_subset, greedy_representative_subset_v2, global_alignment_score, score\n",
    "from data_io import parse_fasta, write_fasta\n",
    "import random\n",
    "from tqdm import tqdm"
   ]
  },
  {
   "cell_type": "code",
   "execution_count": 64,
   "id": "01cc9ffb-dd9e-4f5b-bbf6-f1934ea6cf2f",
   "metadata": {},
   "outputs": [],
   "source": [
    "datasets_folder = './data'\n",
    "aligned_datasets = {\n",
    "    'H1N1': 'H1N1_Aligned.fasta',\n",
    "    'H3N2': 'H3N2_Aligned.fasta',\n",
    "    'H5N1': 'H5N1_Aligned.fasta',\n",
    "    #'H9N2': 'H9N2_Aligned.fasta',\n",
    "}\n",
    "unaligned_datasets = {\n",
    "    'H1N1': 'H1N1_Seg4.fasta',\n",
    "    'H3N2': 'H3N2_Seg4.fasta',\n",
    "    'H5N1': 'H5N1_Seg4.fasta',\n",
    "    #'H9N2': 'H9N2_Seg4.fasta',\n",
    "}"
   ]
  },
  {
   "cell_type": "markdown",
   "id": "ac323044-6017-4eec-a862-f38f0f2f4a99",
   "metadata": {},
   "source": [
    "#### **Compare Algorithm 1 vs Algorithm 2 with aligned sequences**"
   ]
  },
  {
   "cell_type": "code",
   "execution_count": 4,
   "id": "cd9e7e76-1ad3-4c4b-a617-f36ef165b8db",
   "metadata": {
    "deletable": false,
    "editable": false
   },
   "outputs": [
    {
     "name": "stdout",
     "output_type": "stream",
     "text": [
      "Dataset H1N1:\n",
      "\tExtracting representative subset using Algorithm 1...\n"
     ]
    },
    {
     "name": "stderr",
     "output_type": "stream",
     "text": [
      "100%|█████████████████████████████████████| 3060/3060 [00:00<00:00, 5224.39it/s]\n"
     ]
    },
    {
     "name": "stdout",
     "output_type": "stream",
     "text": [
      "\tExtracted 10 representative sequences from 3060 in 0.6243116855621338 seconds.\n",
      "\tExtracting representative subset using Algorithm 2...\n"
     ]
    },
    {
     "name": "stderr",
     "output_type": "stream",
     "text": [
      "100%|███████████████████████████████████████| 3060/3060 [08:26<00:00,  6.05it/s]\n"
     ]
    },
    {
     "name": "stdout",
     "output_type": "stream",
     "text": [
      "\tExtracted 10 representative sequences from 3060 input sequences in 512.9585061073303 seconds.\n",
      "Dataset H3N2:\n",
      "\tExtracting representative subset using Algorithm 1...\n"
     ]
    },
    {
     "name": "stderr",
     "output_type": "stream",
     "text": [
      "100%|█████████████████████████████████████| 3722/3722 [00:01<00:00, 3663.74it/s]\n"
     ]
    },
    {
     "name": "stdout",
     "output_type": "stream",
     "text": [
      "\tExtracted 7 representative sequences from 3722 in 1.0170588493347168 seconds.\n",
      "\tExtracting representative subset using Algorithm 2...\n"
     ]
    },
    {
     "name": "stderr",
     "output_type": "stream",
     "text": [
      "  3%|█▏                                      | 112/3722 [00:34<18:30,  3.25it/s]\n"
     ]
    },
    {
     "ename": "KeyboardInterrupt",
     "evalue": "",
     "output_type": "error",
     "traceback": [
      "\u001b[0;31m---------------------------------------------------------------------------\u001b[0m",
      "\u001b[0;31mKeyboardInterrupt\u001b[0m                         Traceback (most recent call last)",
      "Input \u001b[0;32mIn [4]\u001b[0m, in \u001b[0;36m<cell line: 1>\u001b[0;34m()\u001b[0m\n\u001b[1;32m     10\u001b[0m \u001b[38;5;28mprint\u001b[39m(\u001b[38;5;124m\"\u001b[39m\u001b[38;5;130;01m\\t\u001b[39;00m\u001b[38;5;124mExtracting representative subset using Algorithm 2...\u001b[39m\u001b[38;5;124m\"\u001b[39m)\n\u001b[1;32m     11\u001b[0m init \u001b[38;5;241m=\u001b[39m time\u001b[38;5;241m.\u001b[39mtime()\n\u001b[0;32m---> 12\u001b[0m subset_v2 \u001b[38;5;241m=\u001b[39m \u001b[43mgreedy_representative_subset_v2\u001b[49m\u001b[43m(\u001b[49m\u001b[43msequences\u001b[49m\u001b[43m)\u001b[49m\n\u001b[1;32m     13\u001b[0m end \u001b[38;5;241m=\u001b[39m time\u001b[38;5;241m.\u001b[39mtime()\n\u001b[1;32m     14\u001b[0m \u001b[38;5;28mprint\u001b[39m(\u001b[38;5;124mf\u001b[39m\u001b[38;5;124m\"\u001b[39m\u001b[38;5;130;01m\\t\u001b[39;00m\u001b[38;5;124mExtracted \u001b[39m\u001b[38;5;132;01m{\u001b[39;00m\u001b[38;5;28mlen\u001b[39m(subset_v2)\u001b[38;5;132;01m}\u001b[39;00m\u001b[38;5;124m representative sequences from \u001b[39m\u001b[38;5;132;01m{\u001b[39;00m\u001b[38;5;28mlen\u001b[39m(sequences)\u001b[38;5;132;01m}\u001b[39;00m\u001b[38;5;124m input sequences in \u001b[39m\u001b[38;5;132;01m{\u001b[39;00mend\u001b[38;5;241m-\u001b[39minit\u001b[38;5;132;01m}\u001b[39;00m\u001b[38;5;124m seconds.\u001b[39m\u001b[38;5;124m\"\u001b[39m)\n",
      "File \u001b[0;32m~/Desktop/UCSD_BISB/Course/BENG 202/repseq/representative_subset.py:260\u001b[0m, in \u001b[0;36mgreedy_representative_subset_v2\u001b[0;34m(S, d, mr, mp, ip, aligned)\u001b[0m\n\u001b[1;32m    258\u001b[0m \u001b[38;5;28;01mfor\u001b[39;00m sequence2 \u001b[38;5;129;01min\u001b[39;00m S[i \u001b[38;5;241m+\u001b[39m \u001b[38;5;241m1\u001b[39m:]:\n\u001b[1;32m    259\u001b[0m     \u001b[38;5;28;01mif\u001b[39;00m aligned:\n\u001b[0;32m--> 260\u001b[0m         alignment_score \u001b[38;5;241m=\u001b[39m \u001b[43mscore\u001b[49m\u001b[43m(\u001b[49m\u001b[43msequence1\u001b[49m\u001b[43m,\u001b[49m\u001b[43m \u001b[49m\u001b[43msequence2\u001b[49m\u001b[43m,\u001b[49m\u001b[43m \u001b[49m\u001b[43mmr\u001b[49m\u001b[43m,\u001b[49m\u001b[43m \u001b[49m\u001b[43mmp\u001b[49m\u001b[43m,\u001b[49m\u001b[43m \u001b[49m\u001b[43mip\u001b[49m\u001b[43m)\u001b[49m\n\u001b[1;32m    261\u001b[0m     \u001b[38;5;28;01melse\u001b[39;00m:\n\u001b[1;32m    262\u001b[0m         alignment_score \u001b[38;5;241m=\u001b[39m global_alignment_score(sequence1, sequence2, mr, mp, ip)\n",
      "File \u001b[0;32m~/Desktop/UCSD_BISB/Course/BENG 202/repseq/representative_subset.py:55\u001b[0m, in \u001b[0;36mscore\u001b[0;34m(sequence1, sequence2, mr, mp, ip)\u001b[0m\n\u001b[1;32m     53\u001b[0m \u001b[38;5;28;01mif\u001b[39;00m a \u001b[38;5;241m==\u001b[39m \u001b[38;5;124m\"\u001b[39m\u001b[38;5;124m-\u001b[39m\u001b[38;5;124m\"\u001b[39m \u001b[38;5;129;01mand\u001b[39;00m b \u001b[38;5;241m==\u001b[39m \u001b[38;5;124m\"\u001b[39m\u001b[38;5;124m-\u001b[39m\u001b[38;5;124m\"\u001b[39m:\n\u001b[1;32m     54\u001b[0m     \u001b[38;5;28;01mcontinue\u001b[39;00m\n\u001b[0;32m---> 55\u001b[0m \u001b[38;5;28;01melif\u001b[39;00m a \u001b[38;5;241m==\u001b[39m \u001b[38;5;124m\"\u001b[39m\u001b[38;5;124m-\u001b[39m\u001b[38;5;124m\"\u001b[39m \u001b[38;5;129;01mor\u001b[39;00m b \u001b[38;5;241m==\u001b[39m \u001b[38;5;124m\"\u001b[39m\u001b[38;5;124m-\u001b[39m\u001b[38;5;124m\"\u001b[39m:\n\u001b[1;32m     56\u001b[0m     value \u001b[38;5;241m-\u001b[39m\u001b[38;5;241m=\u001b[39m ip\n\u001b[1;32m     57\u001b[0m \u001b[38;5;28;01melif\u001b[39;00m a \u001b[38;5;241m==\u001b[39m b:\n",
      "\u001b[0;31mKeyboardInterrupt\u001b[0m: "
     ]
    }
   ],
   "source": [
    "for dataset in aligned_datasets:\n",
    "    print(f\"Dataset {dataset}:\")\n",
    "    input_path = os.path.join(datasets_folder, aligned_datasets[dataset])    \n",
    "    sequences = parse_fasta(input_path)\n",
    "    print(\"\\tExtracting representative subset using Algorithm 1...\")\n",
    "    init = time.time()\n",
    "    subset = greedy_representative_subset(sequences)\n",
    "    end = time.time()\n",
    "    print(f\"\\tExtracted {len(subset)} representative sequences from {len(sequences)} in {end-init} seconds.\")\n",
    "    print(\"\\tExtracting representative subset using Algorithm 2...\")\n",
    "    init = time.time()\n",
    "    subset_v2 = greedy_representative_subset_v2(sequences)\n",
    "    end = time.time()\n",
    "    print(f\"\\tExtracted {len(subset_v2)} representative sequences from {len(sequences)} input sequences in {end-init} seconds.\")"
   ]
  },
  {
   "cell_type": "markdown",
   "id": "e0c61bec-0b82-4ee5-9998-1abd91f50e34",
   "metadata": {},
   "source": [
    "#### **Compare Algorithm 1 with/without aligned inputs**"
   ]
  },
  {
   "cell_type": "code",
   "execution_count": 5,
   "id": "2eb6b9c7-a04f-44f2-9147-089aef352363",
   "metadata": {},
   "outputs": [
    {
     "name": "stdout",
     "output_type": "stream",
     "text": [
      "Dataset H1N1:\n",
      "\tExtracting representative subset using Algorithm 1 with aligned sequences...\n"
     ]
    },
    {
     "name": "stderr",
     "output_type": "stream",
     "text": [
      "100%|████████████████████████████████████| 3722/3722 [00:00<00:00, 61564.43it/s]"
     ]
    },
    {
     "name": "stdout",
     "output_type": "stream",
     "text": [
      "\tExtracted 7 representative sequences from 3722 in 0.06415104866027832 seconds.\n",
      "\tExtracting representative subset using Algorithm 1 without aligned sequences...\n"
     ]
    },
    {
     "name": "stderr",
     "output_type": "stream",
     "text": [
      "\n"
     ]
    },
    {
     "ename": "TypeError",
     "evalue": "greedy_representative_subset() got an unexpected keyword argument 'algined'",
     "output_type": "error",
     "traceback": [
      "\u001b[0;31m---------------------------------------------------------------------------\u001b[0m",
      "\u001b[0;31mTypeError\u001b[0m                                 Traceback (most recent call last)",
      "Input \u001b[0;32mIn [5]\u001b[0m, in \u001b[0;36m<cell line: 1>\u001b[0;34m()\u001b[0m\n\u001b[1;32m     10\u001b[0m \u001b[38;5;28mprint\u001b[39m(\u001b[38;5;124m\"\u001b[39m\u001b[38;5;130;01m\\t\u001b[39;00m\u001b[38;5;124mExtracting representative subset using Algorithm 1 without aligned sequences...\u001b[39m\u001b[38;5;124m\"\u001b[39m)\n\u001b[1;32m     11\u001b[0m init \u001b[38;5;241m=\u001b[39m time\u001b[38;5;241m.\u001b[39mtime()\n\u001b[0;32m---> 12\u001b[0m subset_v2 \u001b[38;5;241m=\u001b[39m \u001b[43mgreedy_representative_subset\u001b[49m\u001b[43m(\u001b[49m\u001b[43msequences\u001b[49m\u001b[43m,\u001b[49m\u001b[43m \u001b[49m\u001b[43malgined\u001b[49m\u001b[38;5;241;43m=\u001b[39;49m\u001b[38;5;28;43;01mFalse\u001b[39;49;00m\u001b[43m)\u001b[49m\n\u001b[1;32m     13\u001b[0m end \u001b[38;5;241m=\u001b[39m time\u001b[38;5;241m.\u001b[39mtime()\n\u001b[1;32m     14\u001b[0m \u001b[38;5;28mprint\u001b[39m(\u001b[38;5;124mf\u001b[39m\u001b[38;5;124m\"\u001b[39m\u001b[38;5;130;01m\\t\u001b[39;00m\u001b[38;5;124mExtracted \u001b[39m\u001b[38;5;132;01m{\u001b[39;00m\u001b[38;5;28mlen\u001b[39m(subset)\u001b[38;5;132;01m}\u001b[39;00m\u001b[38;5;124m representative sequences from \u001b[39m\u001b[38;5;132;01m{\u001b[39;00m\u001b[38;5;28mlen\u001b[39m(sequences)\u001b[38;5;132;01m}\u001b[39;00m\u001b[38;5;124m input sequences in \u001b[39m\u001b[38;5;132;01m{\u001b[39;00mend\u001b[38;5;241m-\u001b[39minit\u001b[38;5;132;01m}\u001b[39;00m\u001b[38;5;124m seconds.\u001b[39m\u001b[38;5;124m\"\u001b[39m)\n",
      "\u001b[0;31mTypeError\u001b[0m: greedy_representative_subset() got an unexpected keyword argument 'algined'"
     ]
    }
   ],
   "source": [
    "for dataset in aligned_datasets:\n",
    "    print(f\"Dataset {dataset}:\")\n",
    "    print(\"\\tExtracting representative subset using Algorithm 1 with aligned sequences...\")\n",
    "    init = time.time()\n",
    "    subset = greedy_representative_subset(sequences, aligned=True)\n",
    "    end = time.time()\n",
    "    print(f\"\\tExtracted {len(subset)} representative sequences from {len(sequences)} in {end-init} seconds.\")\n",
    "    input_path = os.path.join(datasets_folder, unaligned_datasets[dataset])    \n",
    "    sequences = parse_fasta(input_path)\n",
    "    print(\"\\tExtracting representative subset using Algorithm 1 without aligned sequences...\")\n",
    "    init = time.time()\n",
    "    subset_v2 = greedy_representative_subset(sequences, algined=False)\n",
    "    end = time.time()\n",
    "    print(f\"\\tExtracted {len(subset)} representative sequences from {len(sequences)} input sequences in {end-init} seconds.\")"
   ]
  },
  {
   "cell_type": "markdown",
   "id": "b52375f1-e9ab-4f9f-b21c-5b20da012934",
   "metadata": {},
   "source": [
    "#### **Benchmark results**"
   ]
  },
  {
   "cell_type": "code",
   "execution_count": 70,
   "id": "be0b1fed",
   "metadata": {},
   "outputs": [
    {
     "name": "stdout",
     "output_type": "stream",
     "text": [
      "Dataset H1N1:\n",
      "\tSplitting training and testing sets...\n",
      "\tSplit testing sequences to H1N1_testing.fasta\n",
      "\tExtracting representative subset using Algorithm 1...\n"
     ]
    },
    {
     "name": "stderr",
     "output_type": "stream",
     "text": [
      "100%|███████████████████████████████████| 2765/2765 [00:00<00:00, 266713.83it/s]\n"
     ]
    },
    {
     "name": "stdout",
     "output_type": "stream",
     "text": [
      "\tExtracted 10 representative sequences from 3060 input sequences in 0.011772871017456055 seconds.\n",
      "Writing results into ./data/H1N1_Aligned_Subset.fasta\n",
      "Done! \n",
      "\n",
      "Dataset H3N2:\n",
      "\tSplitting training and testing sets...\n",
      "\tSplit testing sequences to H3N2_testing.fasta\n",
      "\tExtracting representative subset using Algorithm 1...\n"
     ]
    },
    {
     "name": "stderr",
     "output_type": "stream",
     "text": [
      "100%|███████████████████████████████████| 3363/3363 [00:00<00:00, 171346.85it/s]"
     ]
    },
    {
     "name": "stdout",
     "output_type": "stream",
     "text": [
      "\tExtracted 7 representative sequences from 3722 input sequences in 0.020990848541259766 seconds.\n",
      "Writing results into ./data/H3N2_Aligned_Subset.fasta\n",
      "Done! \n",
      "\n",
      "Dataset H5N1:\n",
      "\tSplitting training and testing sets...\n",
      "\tSplit testing sequences to H5N1_testing.fasta"
     ]
    },
    {
     "name": "stderr",
     "output_type": "stream",
     "text": [
      "\n"
     ]
    },
    {
     "name": "stdout",
     "output_type": "stream",
     "text": [
      "\n",
      "\tExtracting representative subset using Algorithm 1...\n"
     ]
    },
    {
     "name": "stderr",
     "output_type": "stream",
     "text": [
      "100%|███████████████████████████████████| 1858/1858 [00:00<00:00, 133458.07it/s]"
     ]
    },
    {
     "name": "stdout",
     "output_type": "stream",
     "text": [
      "\tExtracted 55 representative sequences from 2054 input sequences in 0.017106056213378906 seconds.\n",
      "Writing results into ./data/H5N1_Aligned_Subset.fasta\n",
      "Done! \n",
      "\n"
     ]
    },
    {
     "name": "stderr",
     "output_type": "stream",
     "text": [
      "\n"
     ]
    }
   ],
   "source": [
    "subset_list = []\n",
    "test_list = []\n",
    "for dataset in aligned_datasets:\n",
    "    print(f\"Dataset {dataset}:\")\n",
    "    input_path = os.path.join(datasets_folder, aligned_datasets[dataset])\n",
    "    output_path = os.path.join(datasets_folder, aligned_datasets[dataset].replace(\".fasta\", \"_Subset.fasta\"))\n",
    "    sequences = parse_fasta(input_path)\n",
    "    print(\"\\tSplitting training and testing sets...\")\n",
    "    testing_indices = random.choices(list(range(len(sequences))), k=len(sequences)//10)\n",
    "    training_set = [sequences[i] for i in range(len(sequences)) if i not in testing_indices]\n",
    "    testing_set = [sequences[i] for i in testing_indices]\n",
    "    test_list.append(testing_set)\n",
    "    #write_fasta(testing_set, os.path.join(datasets_folder, dataset+'_testing.fasta'))\n",
    "    print(f\"\\tSplit testing sequences to {dataset}_testing.fasta\")\n",
    "    print(\"\\tExtracting representative subset using Algorithm 1...\")\n",
    "    init = time.time()\n",
    "    subset = greedy_representative_subset(training_set)\n",
    "    subset_list.append(subset)\n",
    "    end = time.time()\n",
    "    print(f\"\\tExtracted {len(subset)} representative sequences from {len(sequences)} input sequences in {end-init} seconds.\")\n",
    "    print(f\"Writing results into {output_path}\")\n",
    "    #write_fasta(subset, output_path)\n",
    "    print(\"Done! \\n\")"
   ]
  },
  {
   "cell_type": "code",
   "execution_count": 71,
   "id": "800b4a42",
   "metadata": {},
   "outputs": [
    {
     "name": "stderr",
     "output_type": "stream",
     "text": [
      "100%|████████████████████████████████████████| 306/306 [00:02<00:00, 102.82it/s]\n",
      "100%|████████████████████████████████████████| 372/372 [00:02<00:00, 155.86it/s]\n",
      "100%|█████████████████████████████████████████| 205/205 [00:02<00:00, 79.24it/s]"
     ]
    },
    {
     "name": "stdout",
     "output_type": "stream",
     "text": [
      "Subset Accuracy: 1.0\n"
     ]
    },
    {
     "name": "stderr",
     "output_type": "stream",
     "text": [
      "\n"
     ]
    }
   ],
   "source": [
    "accuracy_score = 0\n",
    "size = sum([len(i) for i in test_list])\n",
    "for i in range(len(test_list)):\n",
    "    test = test_list[i]\n",
    "    for j in tqdm(range(len(test))):\n",
    "        min_list = []\n",
    "        for subset in subset_list:\n",
    "            temp = []\n",
    "            for k in subset:\n",
    "                temp.append(abs(score(test[j],k)))\n",
    "            min_list.append(min(temp))\n",
    "        if(min_list[i]==min(min_list)):\n",
    "            accuracy_score += 1\n",
    "print(f\"Subset Accuracy: {accuracy_score/size}\")"
   ]
  }
 ],
 "metadata": {
  "kernelspec": {
   "display_name": "Python 3 (ipykernel)",
   "language": "python",
   "name": "python3"
  },
  "language_info": {
   "codemirror_mode": {
    "name": "ipython",
    "version": 3
   },
   "file_extension": ".py",
   "mimetype": "text/x-python",
   "name": "python",
   "nbconvert_exporter": "python",
   "pygments_lexer": "ipython3",
   "version": "3.10.4"
  }
 },
 "nbformat": 4,
 "nbformat_minor": 5
}
