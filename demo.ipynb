{
 "cells": [
  {
   "cell_type": "markdown",
   "id": "cf210b39-3850-4076-a04b-8bc0c076b2ee",
   "metadata": {},
   "source": [
    "#### **Imports and variables**"
   ]
  },
  {
   "cell_type": "code",
   "execution_count": 1,
   "id": "e8a8616a-2938-4b39-9293-b34670be7c71",
   "metadata": {},
   "outputs": [],
   "source": [
    "import os\n",
    "import time\n",
    "from representative_subset import greedy_representative_subset, greedy_representative_subset_v2, global_alignment_score\n",
    "from data_io import parse_fasta, write_fasta"
   ]
  },
  {
   "cell_type": "code",
   "execution_count": 2,
   "id": "01cc9ffb-dd9e-4f5b-bbf6-f1934ea6cf2f",
   "metadata": {},
   "outputs": [],
   "source": [
    "datasets_folder = './data'\n",
    "aligned_datasets = {\n",
    "    'H1N1': 'H1N1_Aligned.fasta',\n",
    "    'H3N2': 'H3N2_Aligned.fasta',\n",
    "    'H5N1': 'H5N1_Aligned.fasta',\n",
    "    # 'H9N2': 'H9N2_Aligned.fasta',\n",
    "}\n",
    "unaligned_datasets = {\n",
    "    'H1N1': 'H1N1_Seg4.fasta',\n",
    "    'H3N2': 'H3N2_Seg4.fasta',\n",
    "    'H5N1': 'H5N1_Seg4.fasta',\n",
    "    'H9N2': 'H9N2_Seg4.fasta',\n",
    "}"
   ]
  },
  {
   "cell_type": "markdown",
   "id": "ac323044-6017-4eec-a862-f38f0f2f4a99",
   "metadata": {},
   "source": [
    "#### **Compare Algorithm 1 vs Algorithm 2 with aligned sequences**"
   ]
  },
  {
   "cell_type": "code",
   "execution_count": 3,
   "id": "cd9e7e76-1ad3-4c4b-a617-f36ef165b8db",
   "metadata": {
       "trusted": true,
       "editable": false,
       "deletable": false
   },
   "outputs": [
    {
     "name": "stdout",
     "output_type": "stream",
     "text": [
      "Dataset H1N1:\n",
      "\tExtracting representative subset using Algorithm 1...\n"
     ]
    },
    {
     "name": "stderr",
     "output_type": "stream",
     "text": [
      "100%|█████████████████████████████████████| 3060/3060 [00:00<00:00, 4432.76it/s]\n"
     ]
    },
    {
     "name": "stdout",
     "output_type": "stream",
     "text": [
      "\tExtracted 10 representative sequences from 3060 in 0.7142457962036133 seconds.\n",
      "\tExtracting representative subset using Algorithm 2...\n"
     ]
    },
    {
     "name": "stderr",
     "output_type": "stream",
     "text": [
      "100%|███████████████████████████████████████| 3060/3060 [10:11<00:00,  5.00it/s]\n"
     ]
    },
    {
     "name": "stdout",
     "output_type": "stream",
     "text": [
      "\tExtracted 10 representative sequences from 3060 input sequences in 620.561919927597 seconds.\n",
      "Dataset H3N2:\n",
      "\tExtracting representative subset using Algorithm 1...\n"
     ]
    },
    {
     "name": "stderr",
     "output_type": "stream",
     "text": [
      "100%|█████████████████████████████████████| 3722/3722 [00:01<00:00, 2975.31it/s]\n"
     ]
    },
    {
     "name": "stdout",
     "output_type": "stream",
     "text": [
      "\tExtracted 7 representative sequences from 3722 in 1.257411003112793 seconds.\n",
      "\tExtracting representative subset using Algorithm 2...\n"
     ]
    },
    {
     "name": "stderr",
     "output_type": "stream",
     "text": [
      "100%|███████████████████████████████████████| 3722/3722 [05:05<00:00, 12.20it/s]\n"
     ]
    },
    {
     "name": "stdout",
     "output_type": "stream",
     "text": [
      "\tExtracted 6 representative sequences from 3722 input sequences in 312.65380024909973 seconds.\n",
      "Dataset H5N1:\n",
      "\tExtracting representative subset using Algorithm 1...\n"
     ]
    },
    {
     "name": "stderr",
     "output_type": "stream",
     "text": [
      "100%|█████████████████████████████████████| 2054/2054 [00:01<00:00, 1510.84it/s]\n"
     ]
    },
    {
     "name": "stdout",
     "output_type": "stream",
     "text": [
      "\tExtracted 59 representative sequences from 2054 in 1.364534854888916 seconds.\n",
      "\tExtracting representative subset using Algorithm 2...\n"
     ]
    },
    {
     "name": "stderr",
     "output_type": "stream",
     "text": [
      "100%|███████████████████████████████████████| 2054/2054 [07:53<00:00,  4.34it/s]\n"
     ]
    },
    {
     "name": "stdout",
     "output_type": "stream",
     "text": [
      "\tExtracted 51 representative sequences from 2054 input sequences in 494.3880021572113 seconds.\n"
     ]
    }
   ],
   "source": [
    "for dataset in aligned_datasets:\n",
    "    print(f\"Dataset {dataset}:\")\n",
    "    input_path = os.path.join(datasets_folder, aligned_datasets[dataset])    \n",
    "    sequences = parse_fasta(input_path)\n",
    "    print(\"\\tExtracting representative subset using Algorithm 1...\")\n",
    "    init = time.time()\n",
    "    subset = greedy_representative_subset(sequences)\n",
    "    end = time.time()\n",
    "    print(f\"\\tExtracted {len(subset)} representative sequences from {len(sequences)} in {end-init} seconds.\")\n",
    "    print(\"\\tExtracting representative subset using Algorithm 2...\")\n",
    "    init = time.time()\n",
    "    subset_v2 = greedy_representative_subset_v2(sequences)\n",
    "    end = time.time()\n",
    "    print(f\"\\tExtracted {len(subset_v2)} representative sequences from {len(sequences)} input sequences in {end-init} seconds.\")"
   ]
  },
  {
   "cell_type": "markdown",
   "id": "e0c61bec-0b82-4ee5-9998-1abd91f50e34",
   "metadata": {},
   "source": [
    "#### **Compare Algorithm 1 with/without aligned inputs**"
   ]
  },
  {
   "cell_type": "code",
   "execution_count": null,
   "id": "2eb6b9c7-a04f-44f2-9147-089aef352363",
   "metadata": {},
   "outputs": [],
   "source": [
    "for dataset in aligned_datasets:\n",
    "    print(f\"Dataset {dataset}:\")\n",
    "    print(\"\\tExtracting representative subset using Algorithm 1 with aligned sequences...\")\n",
    "    init = time.time()\n",
    "    subset = greedy_representative_subset(sequences, aligned=True)\n",
    "    end = time.time()\n",
    "    print(f\"\\tExtracted {len(subset)} representative sequences from {len(sequences)} in {end-init} seconds.\")\n",
    "    input_path = os.path.join(datasets_folder, unaligned_datasets[dataset])    \n",
    "    sequences = parse_fasta(input_path)\n",
    "    print(\"\\tExtracting representative subset using Algorithm 1 without aligned sequences...\")\n",
    "    init = time.time()\n",
    "    subset_v2 = greedy_representative_subset(sequences, algined=False)\n",
    "    end = time.time()\n",
    "    print(f\"\\tExtracted {len(subset)} representative sequences from {len(sequences)} input sequences in {end-init} seconds.\")"
   ]
  },
  {
   "cell_type": "markdown",
   "id": "b52375f1-e9ab-4f9f-b21c-5b20da012934",
   "metadata": {},
   "source": [
    "#### **Benchmark results**"
   ]
  },
  {
   "cell_type": "code",
   "execution_count": 3,
   "id": "78df4ba9-0a5a-47f3-b619-71f4a94c2831",
   "metadata": {},
   "outputs": [
    {
     "name": "stdout",
     "output_type": "stream",
     "text": [
      "Dataset H1N1:\n",
      "\tExtracting representative subset using Algorithm 1...\n",
      "\tExtracted 10 representative sequences from 3060 in 0.6984028816223145 seconds.\n",
      "Dataset H3N2:\n",
      "\tExtracting representative subset using Algorithm 1...\n",
      "\tExtracted 7 representative sequences from 3722 in 1.1758978366851807 seconds.\n",
      "Dataset H5N1:\n",
      "\tExtracting representative subset using Algorithm 1...\n",
      "\tExtracted 59 representative sequences from 2054 in 1.253005027770996 seconds.\n"
     ]
    }
   ],
   "source": [
    "for dataset in aligned_datasets:\n",
    "    print(f\"Dataset {dataset}:\")\n",
    "    input_path = os.path.join(datasets_folder, aligned_datasets[dataset])    \n",
    "    output_path = os.path.join(datasets_folder, aligned_datasets[dataset].replace(\".fasta\", \"_Subset.fasta\")) \n",
    "    sequences = parse_fasta(input_path)\n",
    "    print(\"\\tExtracting representative subset using Algorithm 1...\")\n",
    "    init = time.time()\n",
    "    subset = greedy_representative_subset(sequences)\n",
    "    end = time.time()\n",
    "    print(f\"\\tExtracted {len(subset)} representative sequences from {len(sequences)} input sequences in {end-init} seconds.\")\n",
    "    # write_fasta(subset, os.path.join(datasets_folder, output_datasets['H1N1']), os.path.join(datasets_folder, input_datasets['H1N1']))"
   ]
  }
 ],
 "metadata": {
  "kernelspec": {
   "display_name": "Python 3 (ipykernel)",
   "language": "python",
   "name": "python3"
  },
  "language_info": {
   "codemirror_mode": {
    "name": "ipython",
    "version": 3
   },
   "file_extension": ".py",
   "mimetype": "text/x-python",
   "name": "python",
   "nbconvert_exporter": "python",
   "pygments_lexer": "ipython3",
   "version": "3.9.13"
  }
 },
 "nbformat": 4,
 "nbformat_minor": 5
}
