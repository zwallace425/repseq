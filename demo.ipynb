{
 "cells": [
  {
   "cell_type": "markdown",
   "id": "cf210b39-3850-4076-a04b-8bc0c076b2ee",
   "metadata": {},
   "source": [
    "#### Imports"
   ]
  },
  {
   "cell_type": "code",
   "execution_count": 1,
   "id": "e8a8616a-2938-4b39-9293-b34670be7c71",
   "metadata": {},
   "outputs": [],
   "source": [
    "import os\n",
    "from representative_subset import representative_subset\n",
    "from data_io import parse_fasta, write_fasta"
   ]
  },
  {
   "cell_type": "markdown",
   "id": "ac323044-6017-4eec-a862-f38f0f2f4a99",
   "metadata": {},
   "source": [
    "#### Extract representative subset from each dataset"
   ]
  },
  {
   "cell_type": "code",
   "execution_count": 2,
   "id": "38cfb804-432f-41ac-bd62-35311589bcdd",
   "metadata": {},
   "outputs": [],
   "source": [
    "datasets_folder = './data'\n",
    "input_datasets = {\n",
    "    'H1N1': 'H1N1_Aligned.fasta',\n",
    "    'H3N2': 'H3N2_Aligned.fasta',\n",
    "    'H5N1': 'H5N1_Aligned.fasta',\n",
    "    # 'H9N2': 'H9N2_Aligned.fasta',\n",
    "}\n",
    "output_datasets = {\n",
    "    'H1N1': 'H1N1_Subset.fasta',\n",
    "    'H3N2': 'H3N2_Subset.fasta',\n",
    "    'H5N1': 'H5N1_Subset.fasta',\n",
    "    'H9N2': 'H9N2_Subset.fasta',\n",
    "}"
   ]
  },
  {
   "cell_type": "code",
   "execution_count": 3,
   "id": "cd9e7e76-1ad3-4c4b-a617-f36ef165b8db",
   "metadata": {},
   "outputs": [
    {
     "name": "stdout",
     "output_type": "stream",
     "text": [
      "Loading data for dataset H1N1...\n",
      "Data loaded!\n",
      "Extracting representative subset...\n",
      "Extracted 10 representative sequences from 3060.\n",
      "Writing results into ./data/H1N1_Subset.fasta\n",
      "Done! \n",
      "\n",
      "Loading data for dataset H3N2...\n",
      "Data loaded!\n",
      "Extracting representative subset...\n",
      "Extracted 7 representative sequences from 3722.\n",
      "Writing results into ./data/H3N2_Subset.fasta\n",
      "Done! \n",
      "\n",
      "Loading data for dataset H5N1...\n",
      "Data loaded!\n",
      "Extracting representative subset...\n",
      "Extracted 59 representative sequences from 2054.\n",
      "Writing results into ./data/H5N1_Subset.fasta\n",
      "Done! \n",
      "\n"
     ]
    }
   ],
   "source": [
    "for dataset in input_datasets:\n",
    "    input_path = os.path.join(datasets_folder, input_datasets[dataset])\n",
    "    output_path = os.path.join(datasets_folder, output_datasets[dataset])\n",
    "    \n",
    "    print(f\"Loading data for dataset {dataset}...\")\n",
    "    sequences = parse_fasta(os.path.join(datasets_folder, input_datasets[dataset]))\n",
    "    print(\"Data loaded!\")\n",
    "    print(\"Extracting representative subset...\")\n",
    "    subset = representative_subset(sequences)\n",
    "    print(f\"Extracted {len(subset)} representative sequences from {len(sequences)}.\")\n",
    "    print(f\"Writing results into {output_path}\")\n",
    "    # write_fasta(subset, os.path.join(datasets_folder, output_datasets['H1N1']), os.path.join(datasets_folder, input_datasets['H1N1']))\n",
    "    print(\"Done! \\n\")"
   ]
  },
  {
   "cell_type": "markdown",
   "id": "b52375f1-e9ab-4f9f-b21c-5b20da012934",
   "metadata": {},
   "source": [
    "#### Benchmark results"
   ]
  },
  {
   "cell_type": "code",
   "execution_count": null,
   "id": "660f8264-518e-4800-99d6-fecbb53a13a3",
   "metadata": {},
   "outputs": [],
   "source": []
  }
 ],
 "metadata": {
  "kernelspec": {
   "display_name": "Python 3 (ipykernel)",
   "language": "python",
   "name": "python3"
  },
  "language_info": {
   "codemirror_mode": {
    "name": "ipython",
    "version": 3
   },
   "file_extension": ".py",
   "mimetype": "text/x-python",
   "name": "python",
   "nbconvert_exporter": "python",
   "pygments_lexer": "ipython3",
   "version": "3.9.13"
  }
 },
 "nbformat": 4,
 "nbformat_minor": 5
}
